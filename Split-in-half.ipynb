{
 "cells": [
  {
   "cell_type": "code",
   "execution_count": 12,
   "id": "93a2f27c",
   "metadata": {},
   "outputs": [],
   "source": [
    "import pandas as pd"
   ]
  },
  {
   "cell_type": "code",
   "execution_count": 13,
   "id": "5bab87d4",
   "metadata": {},
   "outputs": [],
   "source": [
    "df = pd.read_csv('students.csv')"
   ]
  },
  {
   "cell_type": "code",
   "execution_count": 14,
   "id": "09a67726",
   "metadata": {},
   "outputs": [],
   "source": [
    "def two_halves(df, column):\n",
    "    unique_values = df[column].value_counts().to_dict()  #dictionary with values of a column and their counts (sorted)\n",
    "    \n",
    "    column_values1 = {}                                  #starting values for a loop\n",
    "    column_values2 = {}\n",
    "    sum1 = 0\n",
    "    sum2 = 0\n",
    "    \n",
    "    for key, value in unique_values.items():             #iterating through unique_values and filling        \n",
    "        if sum1 < sum2:                                  #two new dictionaries by adding to the one that\n",
    "            column_values1[key] = value                  #has the lowest sum of values (at the moment of iteration)\n",
    "            sum1 += value\n",
    "        else:\n",
    "            column_values2[key] = value\n",
    "            sum2 += value\n",
    "    \n",
    "    values1 = list(column_values1.keys())                #getting lists of keys from each dictionary (column values)\n",
    "    values2 = list(column_values2.keys())\n",
    "    \n",
    "    df1 = df[df[column].isin(values1)].reset_index(drop=True)\n",
    "    df2 = df[df[column].isin(values2)].reset_index(drop=True)\n",
    "    \n",
    "    return df1, df2\n",
    "        "
   ]
  },
  {
   "cell_type": "code",
   "execution_count": 15,
   "id": "4e0de644",
   "metadata": {},
   "outputs": [
    {
     "name": "stdout",
     "output_type": "stream",
     "text": [
      "Canada       141\n",
      "Brazil       129\n",
      "Turkey        76\n",
      "Argentina     71\n",
      "USA           63\n",
      "Name: country, dtype: int64\n",
      "480\n",
      "==============================\n",
      "Mexico       153\n",
      "Portugal      86\n",
      "Indonesia     79\n",
      "Poland        73\n",
      "China         67\n",
      "Cambodja      62\n",
      "Name: country, dtype: int64\n",
      "520\n"
     ]
    }
   ],
   "source": [
    "test = two_halves(df, 'country')\n",
    "\n",
    "print(test[0]['country'].value_counts())\n",
    "print(len(test[0]))\n",
    "print('='*30)\n",
    "print(test[1]['country'].value_counts())\n",
    "print(len(test[1]))"
   ]
  }
 ],
 "metadata": {
  "kernelspec": {
   "display_name": "Python 3 (ipykernel)",
   "language": "python",
   "name": "python3"
  },
  "language_info": {
   "codemirror_mode": {
    "name": "ipython",
    "version": 3
   },
   "file_extension": ".py",
   "mimetype": "text/x-python",
   "name": "python",
   "nbconvert_exporter": "python",
   "pygments_lexer": "ipython3",
   "version": "3.9.13"
  }
 },
 "nbformat": 4,
 "nbformat_minor": 5
}
